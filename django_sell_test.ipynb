{
 "cells": [
  {
   "cell_type": "code",
   "execution_count": 1,
   "id": "0ecb758d",
   "metadata": {},
   "outputs": [],
   "source": [
    "new_todo = Todo('hello_world')"
   ]
  },
  {
   "cell_type": "code",
   "execution_count": 2,
   "id": "bd9ffaf4",
   "metadata": {},
   "outputs": [
    {
     "name": "stdout",
     "output_type": "stream",
     "text": [
      "Todo object (hello_world)\n"
     ]
    }
   ],
   "source": [
    "print(new_todo)"
   ]
  },
  {
   "cell_type": "code",
   "execution_count": 4,
   "id": "4eaf8ad6",
   "metadata": {},
   "outputs": [
    {
     "name": "stdout",
     "output_type": "stream",
     "text": [
      "aa\n"
     ]
    }
   ],
   "source": [
    "todo1 = Todo.objects.get(id=1)\n",
    "print(todo1.content)"
   ]
  },
  {
   "cell_type": "code",
   "execution_count": null,
   "id": "7fb56bc3",
   "metadata": {},
   "outputs": [],
   "source": []
  }
 ],
 "metadata": {
  "kernelspec": {
   "display_name": "Django Shell-Plus",
   "language": "python",
   "name": "django_extensions"
  },
  "language_info": {
   "codemirror_mode": {
    "name": "ipython",
    "version": 3
   },
   "file_extension": ".py",
   "mimetype": "text/x-python",
   "name": "python",
   "nbconvert_exporter": "python",
   "pygments_lexer": "ipython3",
   "version": "3.9.5"
  }
 },
 "nbformat": 4,
 "nbformat_minor": 5
}
